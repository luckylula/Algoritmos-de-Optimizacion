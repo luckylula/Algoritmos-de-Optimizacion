{
  "nbformat": 4,
  "nbformat_minor": 0,
  "metadata": {
    "colab": {
      "provenance": [],
      "toc_visible": true,
      "include_colab_link": true
    },
    "kernelspec": {
      "name": "python3",
      "display_name": "Python 3"
    }
  },
  "cells": [
    {
      "cell_type": "markdown",
      "metadata": {
        "id": "view-in-github",
        "colab_type": "text"
      },
      "source": [
        "<a href=\"https://colab.research.google.com/github/luckylula/Algoritmos-de-Optimizacion/blob/main/Algoritmos_AG1MARTINEZPEREZ.ipynb\" target=\"_parent\"><img src=\"https://colab.research.google.com/assets/colab-badge.svg\" alt=\"Open In Colab\"/></a>"
      ]
    },
    {
      "cell_type": "markdown",
      "metadata": {
        "id": "kQn6fbhgtH9I"
      },
      "source": [
        "#Algoritmos - Actividad Guiada 1\n",
        "\n",
        "Nombre: Raul Reyero Diez<br>\n",
        "URL: https://colab.research.google.com/drive/1lJqfBFQFbfb39vkg9KlMqWj527tXl9uY?usp=sharing\n",
        "\n",
        "http:github.com/rauxxxx/Algoritmos..\n"
      ]
    },
    {
      "cell_type": "markdown",
      "metadata": {
        "id": "_t62Ge7ZuKnC"
      },
      "source": [
        "##Torres de Hanoi con Divide y vencerás"
      ]
    },
    {
      "cell_type": "code",
      "source": [
        "def Torres_Hanoi(N, desde, hasta):\n",
        "  if N ==1 :\n",
        "    print(\"Lleva la ficha \" ,desde , \" hasta \", hasta )\n",
        "\n",
        "  else:\n",
        "    #Torres_Hanoi(N-1, desde, 6-desde-hasta )\n",
        "    Torres_Hanoi(N-1, desde, 6-desde-hasta )\n",
        "    print(\"Lleva la ficha \" ,desde , \" hasta \", hasta )\n",
        "    #Torres_Hanoi(N-1,6-desde-hasta, hasta )\n",
        "    Torres_Hanoi(N-1, 6-desde-hasta  , hasta )\n",
        "\n",
        "\n",
        "Torres_Hanoi(3, 1 , 3)"
      ],
      "metadata": {
        "colab": {
          "base_uri": "https://localhost:8080/",
          "height": 0
        },
        "id": "YNiAqg1W8jyT",
        "outputId": "61a55b45-813a-4a40-c7db-d77b0c4dbfac"
      },
      "execution_count": 9,
      "outputs": [
        {
          "output_type": "stream",
          "name": "stdout",
          "text": [
            "Lleva la ficha  1  hasta  3\n",
            "Lleva la ficha  1  hasta  2\n",
            "Lleva la ficha  3  hasta  2\n",
            "Lleva la ficha  1  hasta  3\n",
            "Lleva la ficha  2  hasta  1\n",
            "Lleva la ficha  2  hasta  3\n",
            "Lleva la ficha  1  hasta  3\n"
          ]
        }
      ]
    },
    {
      "cell_type": "markdown",
      "source": [
        "### Torres de Hanoi – Modificación 1: Contador de movimientos\n",
        "\n",
        "He modificado el algoritmo original para incluir un contador de movimientos.  \n",
        "Esto permite saber cuántos pasos se requieren para resolver el problema, algo útil para analizar la complejidad del algoritmo.\n"
      ],
      "metadata": {
        "id": "7DWFYPq95CPa"
      }
    },
    {
      "cell_type": "code",
      "metadata": {
        "colab": {
          "base_uri": "https://localhost:8080/",
          "height": 0
        },
        "id": "i32G0CUQvauE",
        "outputId": "ad6a49af-15aa-43ba-985f-4738d3a671a1"
      },
      "source": [
        "##### Torres de Hanoi – Modificación 1: Contador de movimientos\n",
        "\n",
        "####He modificado el algoritmo original para incluir un contador de movimientos.\n",
        "####Esto permite saber cuántos pasos se requieren para resolver el problema, algo útil para analizar la complejidad del algoritmo.\n",
        "\n",
        "\n",
        "def Torres_Hanoi(N, desde, hasta, contador):\n",
        "    if N == 1:\n",
        "        print(f\"Mover ficha de {desde} a {hasta}\")\n",
        "        contador[0] += 1\n",
        "    else:\n",
        "        Torres_Hanoi(N-1, desde, 6-desde-hasta, contador)\n",
        "        print(f\"Mover ficha de {desde} a {hasta}\")\n",
        "        contador[0] += 1\n",
        "        Torres_Hanoi(N-1, 6-desde-hasta, hasta, contador)\n",
        "\n",
        "# Ejecución con contador\n",
        "movimientos = [0]\n",
        "Torres_Hanoi(3, 1, 3, movimientos)\n",
        "print(\"Movimientos totales:\", movimientos[0])\n"
      ],
      "execution_count": 3,
      "outputs": [
        {
          "output_type": "stream",
          "name": "stdout",
          "text": [
            "Mover ficha de 1 a 3\n",
            "Mover ficha de 1 a 2\n",
            "Mover ficha de 3 a 2\n",
            "Mover ficha de 1 a 3\n",
            "Mover ficha de 2 a 1\n",
            "Mover ficha de 2 a 3\n",
            "Mover ficha de 1 a 3\n",
            "Movimientos totales: 7\n"
          ]
        }
      ]
    },
    {
      "cell_type": "markdown",
      "source": [
        "### Torres de Hanoi – Modificación 2: Visualización paso a paso del estado de las torres\n",
        "\n",
        "En esta modificación, además de resolver el problema, mostramos el estado de las tres torres después de cada movimiento.  \n",
        "Cada torre se representa como una pila (lista), donde los discos están ordenados de mayor a menor.  \n",
        "Esta visualización ayuda a entender el proceso paso a paso.\n",
        "\n"
      ],
      "metadata": {
        "id": "qPTp4CbO5v8m"
      }
    },
    {
      "cell_type": "code",
      "source": [
        "# Estado inicial de las torres como diccionario de pilas\n",
        "def inicializar_torres(n_discos):\n",
        "    return {1: list(reversed(range(1, n_discos+1))), 2: [], 3: []}\n",
        "\n",
        "# Función para mostrar el estado de las torres\n",
        "def mostrar_torres(torres):\n",
        "    print(\"\\nEstado actual de las torres:\")\n",
        "    for i in range(1, 4):\n",
        "        print(f\"Torre {i}: {torres[i]}\")\n",
        "    print(\"-\" * 30)\n",
        "\n",
        "# Función de movimiento con visualización\n",
        "def Torres_Hanoi_visual(n, desde, hasta, torres):\n",
        "    if n == 1:\n",
        "        disco = torres[desde].pop()\n",
        "        torres[hasta].append(disco)\n",
        "        print(f\"➡️ Mover disco {disco} de torre {desde} a torre {hasta}\")\n",
        "        mostrar_torres(torres)\n",
        "    else:\n",
        "        auxiliar = 6 - desde - hasta\n",
        "        Torres_Hanoi_visual(n-1, desde, auxiliar, torres)\n",
        "        Torres_Hanoi_visual(1, desde, hasta, torres)\n",
        "        Torres_Hanoi_visual(n-1, auxiliar, hasta, torres)\n",
        "\n",
        "# Ejecutar con 3 discos\n",
        "n_discos = 3\n",
        "torres = inicializar_torres(n_discos)\n",
        "mostrar_torres(torres)\n",
        "Torres_Hanoi_visual(n_discos, 1, 3, torres)\n"
      ],
      "metadata": {
        "colab": {
          "base_uri": "https://localhost:8080/",
          "height": 0
        },
        "id": "JNLjR_py57LT",
        "outputId": "b756a448-e910-4af3-f82a-5a30116d86e3"
      },
      "execution_count": 5,
      "outputs": [
        {
          "output_type": "stream",
          "name": "stdout",
          "text": [
            "\n",
            "Estado actual de las torres:\n",
            "Torre 1: [3, 2, 1]\n",
            "Torre 2: []\n",
            "Torre 3: []\n",
            "------------------------------\n",
            "➡️ Mover disco 1 de torre 1 a torre 3\n",
            "\n",
            "Estado actual de las torres:\n",
            "Torre 1: [3, 2]\n",
            "Torre 2: []\n",
            "Torre 3: [1]\n",
            "------------------------------\n",
            "➡️ Mover disco 2 de torre 1 a torre 2\n",
            "\n",
            "Estado actual de las torres:\n",
            "Torre 1: [3]\n",
            "Torre 2: [2]\n",
            "Torre 3: [1]\n",
            "------------------------------\n",
            "➡️ Mover disco 1 de torre 3 a torre 2\n",
            "\n",
            "Estado actual de las torres:\n",
            "Torre 1: [3]\n",
            "Torre 2: [2, 1]\n",
            "Torre 3: []\n",
            "------------------------------\n",
            "➡️ Mover disco 3 de torre 1 a torre 3\n",
            "\n",
            "Estado actual de las torres:\n",
            "Torre 1: []\n",
            "Torre 2: [2, 1]\n",
            "Torre 3: [3]\n",
            "------------------------------\n",
            "➡️ Mover disco 1 de torre 2 a torre 1\n",
            "\n",
            "Estado actual de las torres:\n",
            "Torre 1: [1]\n",
            "Torre 2: [2]\n",
            "Torre 3: [3]\n",
            "------------------------------\n",
            "➡️ Mover disco 2 de torre 2 a torre 3\n",
            "\n",
            "Estado actual de las torres:\n",
            "Torre 1: [1]\n",
            "Torre 2: []\n",
            "Torre 3: [3, 2]\n",
            "------------------------------\n",
            "➡️ Mover disco 1 de torre 1 a torre 3\n",
            "\n",
            "Estado actual de las torres:\n",
            "Torre 1: []\n",
            "Torre 2: []\n",
            "Torre 3: [3, 2, 1]\n",
            "------------------------------\n"
          ]
        }
      ]
    },
    {
      "cell_type": "markdown",
      "source": [
        "### Conclusión – Algoritmo de Torres de Hanoi\n",
        "\n",
        "A través del algoritmo de Torres de Hanoi he podido trabajar la técnica de **divide y vencerás**, comprendiendo cómo un problema complejo se resuelve dividiéndolo en subproblemas más simples.\n",
        "\n",
        "He realizado dos modificaciones que me han ayudado a profundizar en su funcionamiento:\n",
        "\n",
        "1. **Contador de movimientos**: me ha permitido comprobar que el número total de pasos crece exponencialmente con el número de discos. Esto es clave para entender la complejidad del algoritmo (2ⁿ - 1 movimientos).\n",
        "\n",
        "2. **Visualización paso a paso del estado de las torres**: me ha facilitado ver cómo los discos van cambiando de posición en cada iteración. Representar visualmente los movimientos me ha ayudado a entender mejor la recursión y la lógica interna del proceso.\n",
        "\n",
        "Estas mejoras no solo hacen el algoritmo más comprensible, sino que me han permitido observar su comportamiento de forma mucho más clara y pedagógica.\n"
      ],
      "metadata": {
        "id": "wwfga8WL7Kg6"
      }
    },
    {
      "cell_type": "markdown",
      "source": [],
      "metadata": {
        "id": "EU0eKyNP4-HO"
      }
    },
    {
      "cell_type": "code",
      "metadata": {
        "colab": {
          "base_uri": "https://localhost:8080/"
        },
        "id": "74qZZAekiNYR",
        "outputId": "acc17268-7f87-4de4-ae5a-4fc6ce09d385"
      },
      "source": [
        "#Sucesión_de_Fibonacci\n",
        "#https://es.wikipedia.org/wiki/Sucesi%C3%B3n_de_Fibonacci\n",
        "#Calculo del termino n-simo de la suscesión de Fibonacci\n",
        "def Fibonacci(N:int):\n",
        "  if N < 2:\n",
        "    return 1\n",
        "  else:\n",
        "    return Fibonacci(N-1)+Fibonacci(N-2)\n",
        "\n",
        "Fibonacci(5)"
      ],
      "execution_count": null,
      "outputs": [
        {
          "output_type": "execute_result",
          "data": {
            "text/plain": [
              "8"
            ]
          },
          "metadata": {},
          "execution_count": 2
        }
      ]
    },
    {
      "cell_type": "markdown",
      "metadata": {
        "id": "RgT5XJsZ429L"
      },
      "source": [
        "##Devolución de cambio por técnica voraz"
      ]
    },
    {
      "cell_type": "code",
      "metadata": {
        "id": "uJtftBLU4-ap",
        "colab": {
          "base_uri": "https://localhost:8080/"
        },
        "outputId": "b52f7a2c-771b-4c2e-81ab-c4c3ea01318d"
      },
      "source": [
        "def cambio_monedas(N, SM):\n",
        "  SOLUCION = [0]*len(SM)   #SOLUCION = [0,0,0,0,..]\n",
        "  ValorAcumulado = 0\n",
        "\n",
        "  for i,valor in enumerate(SM):\n",
        "    monedas =  (N-ValorAcumulado)//valor\n",
        "    SOLUCION[i] = monedas\n",
        "    ValorAcumulado = ValorAcumulado + monedas*valor\n",
        "\n",
        "    if ValorAcumulado == N:\n",
        "      return SOLUCION\n",
        "\n",
        "\n",
        "cambio_monedas(15,[25,10,5,1])"
      ],
      "execution_count": null,
      "outputs": [
        {
          "output_type": "execute_result",
          "data": {
            "text/plain": [
              "[0, 1, 1, 0]"
            ]
          },
          "metadata": {},
          "execution_count": 7
        }
      ]
    },
    {
      "cell_type": "markdown",
      "source": [
        "### Cambio de monedas – Modificación 1: Visualización paso a paso\n",
        "\n",
        "En esta modificación del algoritmo voraz para el cambio de monedas, se imprime en cada paso cuántas monedas se usan de cada tipo y el total acumulado.  \n",
        "Esto permite comprender cómo se construye la solución de forma progresiva.\n"
      ],
      "metadata": {
        "id": "avCOhV8S7wnr"
      }
    },
    {
      "cell_type": "code",
      "source": [
        "def cambio_monedas_mostrar(N, SM):\n",
        "    SOLUCION = [0]*len(SM)\n",
        "    ValorAcumulado = 0\n",
        "\n",
        "    for i, valor in enumerate(SM):\n",
        "        monedas = (N - ValorAcumulado) // valor\n",
        "        SOLUCION[i] = monedas\n",
        "        ValorAcumulado += monedas * valor\n",
        "        print(f\"Usamos {monedas} monedas de {valor}. Total acumulado: {ValorAcumulado}\")\n",
        "\n",
        "        if ValorAcumulado == N:\n",
        "            break\n",
        "\n",
        "    print(\"Solución final:\", SOLUCION)\n",
        "    return SOLUCION\n",
        "\n",
        "# Prueba del algoritmo\n",
        "cambio_monedas_mostrar(87, [25, 10, 5, 1])\n"
      ],
      "metadata": {
        "colab": {
          "base_uri": "https://localhost:8080/",
          "height": 0
        },
        "id": "2SZF1SMk73z5",
        "outputId": "26608646-2bf3-41be-abb0-f183763a7bff"
      },
      "execution_count": 6,
      "outputs": [
        {
          "output_type": "stream",
          "name": "stdout",
          "text": [
            "Usamos 3 monedas de 25. Total acumulado: 75\n",
            "Usamos 1 monedas de 10. Total acumulado: 85\n",
            "Usamos 0 monedas de 5. Total acumulado: 85\n",
            "Usamos 2 monedas de 1. Total acumulado: 87\n",
            "Solución final: [3, 1, 0, 2]\n"
          ]
        },
        {
          "output_type": "execute_result",
          "data": {
            "text/plain": [
              "[3, 1, 0, 2]"
            ]
          },
          "metadata": {},
          "execution_count": 6
        }
      ]
    },
    {
      "cell_type": "markdown",
      "source": [
        "### Cambio de monedas – Modificación 2: Caso donde el algoritmo voraz no encuentra la solución óptima\n",
        "\n",
        "En esta modificación se prueba el algoritmo voraz con un sistema de monedas no estándar: `[4, 3, 1]`.  \n",
        "Se intenta cambiar 6 unidades. El algoritmo voraz elige primero 1 moneda de 4 y luego 2 monedas de 1 → total de **3 monedas**.  \n",
        "Sin embargo, la solución óptima es **2 monedas de 3**.  \n",
        "Esto muestra que el enfoque voraz no siempre encuentra la mejor solución posible.\n"
      ],
      "metadata": {
        "id": "jTGL9MHl8Cc5"
      }
    },
    {
      "cell_type": "code",
      "source": [
        "def cambio_monedas_mostrar(N, SM):\n",
        "    SOLUCION = [0]*len(SM)\n",
        "    ValorAcumulado = 0\n",
        "\n",
        "    for i, valor in enumerate(SM):\n",
        "        monedas = (N - ValorAcumulado) // valor\n",
        "        SOLUCION[i] = monedas\n",
        "        ValorAcumulado += monedas * valor\n",
        "        print(f\"Usamos {monedas} monedas de {valor}. Total acumulado: {ValorAcumulado}\")\n",
        "        if ValorAcumulado == N:\n",
        "            break\n",
        "\n",
        "    print(\"Solución voraz:\", SOLUCION)\n",
        "    print(\"Total de monedas usadas (voraz):\", sum(SOLUCION))\n",
        "    return SOLUCION\n",
        "\n",
        "# Caso no óptimo\n",
        "cambio_monedas_mostrar(6, [4, 3, 1])\n"
      ],
      "metadata": {
        "colab": {
          "base_uri": "https://localhost:8080/",
          "height": 0
        },
        "id": "wW-VXp3D8Fzu",
        "outputId": "76fa700d-e572-4bcb-a38f-063f8863d5cb"
      },
      "execution_count": 7,
      "outputs": [
        {
          "output_type": "stream",
          "name": "stdout",
          "text": [
            "Usamos 1 monedas de 4. Total acumulado: 4\n",
            "Usamos 0 monedas de 3. Total acumulado: 4\n",
            "Usamos 2 monedas de 1. Total acumulado: 6\n",
            "Solución voraz: [1, 0, 2]\n",
            "Total de monedas usadas (voraz): 3\n"
          ]
        },
        {
          "output_type": "execute_result",
          "data": {
            "text/plain": [
              "[1, 0, 2]"
            ]
          },
          "metadata": {},
          "execution_count": 7
        }
      ]
    },
    {
      "cell_type": "markdown",
      "source": [
        "### Cambio de monedas – Modificación 3: Cálculo del número total de monedas usadas\n",
        "\n",
        "En esta versión se añade un cálculo final que suma el total de monedas utilizadas.  \n",
        "Esto permite cuantificar la eficiencia de la solución obtenida por el algoritmo voraz, y es especialmente útil cuando se comparan diferentes sistemas de monedas o estrategias.\n"
      ],
      "metadata": {
        "id": "IR6fE1GZ8NJ_"
      }
    },
    {
      "cell_type": "code",
      "source": [
        "def cambio_monedas_contador(N, SM):\n",
        "    SOLUCION = [0]*len(SM)\n",
        "    ValorAcumulado = 0\n",
        "\n",
        "    for i, valor in enumerate(SM):\n",
        "        monedas = (N - ValorAcumulado) // valor\n",
        "        SOLUCION[i] = monedas\n",
        "        ValorAcumulado += monedas * valor\n",
        "\n",
        "        if ValorAcumulado == N:\n",
        "            break\n",
        "\n",
        "    total_monedas = sum(SOLUCION)\n",
        "    print(\"Solución:\", SOLUCION)\n",
        "    print(\"Total de monedas usadas:\", total_monedas)\n",
        "    return SOLUCION, total_monedas\n",
        "\n",
        "# Prueba\n",
        "cambio_monedas_contador(87, [25, 10, 5, 1])\n"
      ],
      "metadata": {
        "colab": {
          "base_uri": "https://localhost:8080/",
          "height": 0
        },
        "id": "K1Y51GU68RhT",
        "outputId": "332df8b6-6c0b-4386-d7a8-08674b28072f"
      },
      "execution_count": 8,
      "outputs": [
        {
          "output_type": "stream",
          "name": "stdout",
          "text": [
            "Solución: [3, 1, 0, 2]\n",
            "Total de monedas usadas: 6\n"
          ]
        },
        {
          "output_type": "execute_result",
          "data": {
            "text/plain": [
              "([3, 1, 0, 2], 6)"
            ]
          },
          "metadata": {},
          "execution_count": 8
        }
      ]
    },
    {
      "cell_type": "markdown",
      "source": [
        "### Conclusión – Algoritmo voraz (cambio de monedas)\n",
        "\n",
        "En este bloque he trabajado el algoritmo voraz aplicado al problema del cambio de monedas, realizando tres modificaciones que me han permitido profundizar en su funcionamiento:\n",
        "\n",
        "1. **Visualización paso a paso**: ver cuántas monedas se utilizan de cada tipo y cómo se va construyendo la solución me ayudó a comprender la lógica voraz del algoritmo.\n",
        "\n",
        "2. **Caso no óptimo**: probando con un sistema de monedas no estándar, comprobé que el algoritmo no siempre encuentra la mejor solución posible. Esto demuestra que las decisiones locales óptimas no garantizan una solución global óptima, y que el enfoque voraz tiene limitaciones.\n",
        "\n",
        "3. **Cálculo del total de monedas**: esta mejora me permitió cuantificar la eficiencia de cada solución, lo cual es útil tanto para comparar estrategias como para analizar el impacto de las decisiones tomadas por el algoritmo.\n",
        "\n",
        "Gracias a estas modificaciones, he podido observar tanto las fortalezas como las debilidades de los algoritmos voraces en la práctica.\n"
      ],
      "metadata": {
        "id": "CQQLO6mz8tF-"
      }
    },
    {
      "cell_type": "markdown",
      "metadata": {
        "id": "g8M9GTvy_Fa3"
      },
      "source": [
        "## N-Reinas por técnica de vueta atrás\n"
      ]
    },
    {
      "cell_type": "code",
      "metadata": {
        "id": "FqOPyCmv_K65"
      },
      "source": [
        "def escribe(S):\n",
        "  n = len(S)\n",
        "  for x in range(n):\n",
        "    print(\"\")\n",
        "    for i in range(n):\n",
        "      if S[i] == x+1:\n",
        "        print(\" X \" , end=\"\")\n",
        "      else:\n",
        "        print(\" - \", end=\"\")\n",
        "\n",
        "\n",
        "def es_prometedora(SOLUCION,etapa):\n",
        "  #print(SOLUCION)\n",
        "  #Si la solución tiene dos valores iguales no es valida => Dos reinas en la misma fila\n",
        "  for i in range(etapa+1):\n",
        "    #print(\"El valor \" + str(SOLUCION[i]) + \" está \" +  str(SOLUCION.count(SOLUCION[i])) + \" veces\")\n",
        "    if SOLUCION.count(SOLUCION[i]) > 1:\n",
        "      return False\n",
        "\n",
        "    #Verifica las diagonales\n",
        "    for j in range(i+1, etapa +1 ):\n",
        "      #print(\"Comprobando diagonal de \" + str(i) + \" y \" + str(j))\n",
        "      if abs(i-j) == abs(SOLUCION[i]-SOLUCION[j]) : return False\n",
        "  return True\n",
        "\n",
        "\n",
        "\n",
        "def reinas(N, solucion=[], etapa=0):\n",
        "  if len(solucion) == 0:\n",
        "      solucion=[0 for i in range(N)]\n",
        "\n",
        "  for i in range(1, N+1):\n",
        "    solucion[etapa] = i\n",
        "\n",
        "    if es_prometedora(solucion, etapa):\n",
        "      if etapa == N-1:\n",
        "        print(solucion)\n",
        "        #escribe(solucion)\n",
        "        print()\n",
        "      else:\n",
        "        reinas(N, solucion, etapa+1)\n",
        "    else:\n",
        "      None\n",
        "\n",
        "    solucion[etapa] = 0\n",
        "\n",
        "reinas(8)"
      ],
      "execution_count": null,
      "outputs": []
    },
    {
      "cell_type": "markdown",
      "source": [
        "### N Reinas – Modificación 1: Visualización del tablero solución\n",
        "\n",
        "Esta modificación permite imprimir el tablero con las posiciones de las reinas (`Q`) y los espacios vacíos (`.`),  \n",
        "una vez que se encuentra una solución válida. Esto hace más fácil comprender visualmente la configuración del problema y cómo se distribuyen las reinas en el tablero.\n"
      ],
      "metadata": {
        "id": "yO6MyT8k9J5d"
      }
    },
    {
      "cell_type": "code",
      "source": [
        "def es_prometedora(SOLUCION, etapa):\n",
        "    for i in range(etapa):\n",
        "        if SOLUCION[i] == SOLUCION[etapa] or abs(SOLUCION[i] - SOLUCION[etapa]) == abs(i - etapa):\n",
        "            return False\n",
        "    return True\n",
        "\n",
        "def imprimir_tablero(solucion):\n",
        "    n = len(solucion)\n",
        "    for fila in range(n):\n",
        "        linea = \"\"\n",
        "        for columna in range(n):\n",
        "            if solucion[fila] == columna:\n",
        "                linea += \"Q \"\n",
        "            else:\n",
        "                linea += \". \"\n",
        "        print(linea)\n",
        "    print(\"-\" * (2 * n))\n",
        "\n",
        "def N_Reinas(N):\n",
        "    def backtrack(etapa, solucion):\n",
        "        if etapa == N:\n",
        "            imprimir_tablero(solucion)\n",
        "            return\n",
        "        for i in range(N):\n",
        "            solucion[etapa] = i\n",
        "            if es_prometedora(solucion, etapa):\n",
        "                backtrack(etapa + 1, solucion)\n",
        "\n",
        "    solucion = [-1]*N\n",
        "    backtrack(0, solucion)\n",
        "\n",
        "# Ejecutar con N = 4\n",
        "N_Reinas(4)\n"
      ],
      "metadata": {
        "colab": {
          "base_uri": "https://localhost:8080/",
          "height": 0
        },
        "id": "Yl--QmYh9Mgb",
        "outputId": "60500228-3503-4943-a406-03ec5488d516"
      },
      "execution_count": 10,
      "outputs": [
        {
          "output_type": "stream",
          "name": "stdout",
          "text": [
            ". Q . . \n",
            ". . . Q \n",
            "Q . . . \n",
            ". . Q . \n",
            "--------\n",
            ". . Q . \n",
            "Q . . . \n",
            ". . . Q \n",
            ". Q . . \n",
            "--------\n"
          ]
        }
      ]
    },
    {
      "cell_type": "markdown",
      "source": [
        "### N Reinas – Modificación 2: Contador total de soluciones\n",
        "\n",
        "En esta modificación, en lugar de imprimir cada solución, se cuenta cuántas soluciones válidas existen para un valor de N dado.  \n",
        "Esto permite observar la explosión combinatoria del problema y la dificultad que implica resolverlo por fuerza bruta o métodos ingenuos.  \n",
        "Es una forma sencilla pero potente de evaluar la eficiencia de un algoritmo de vuelta atrás.\n"
      ],
      "metadata": {
        "id": "CS7bxyvJ9jCR"
      }
    },
    {
      "cell_type": "code",
      "source": [
        "def es_prometedora(SOLUCION, etapa):\n",
        "    for i in range(etapa):\n",
        "        if SOLUCION[i] == SOLUCION[etapa] or abs(SOLUCION[i] - SOLUCION[etapa]) == abs(i - etapa):\n",
        "            return False\n",
        "    return True\n",
        "\n",
        "def N_Reinas_contador(N):\n",
        "    contador = [0]  # usamos lista para que sea modificable dentro de la función anidada\n",
        "\n",
        "    def backtrack(etapa, solucion):\n",
        "        if etapa == N:\n",
        "            contador[0] += 1\n",
        "            return\n",
        "        for i in range(N):\n",
        "            solucion[etapa] = i\n",
        "            if es_prometedora(solucion, etapa):\n",
        "                backtrack(etapa + 1, solucion)\n",
        "\n",
        "    solucion = [-1] * N\n",
        "    backtrack(0, solucion)\n",
        "    print(f\"Número total de soluciones para N = {N}:\", contador[0])\n",
        "\n",
        "# Ejecutar con N = 4\n",
        "N_Reinas_contador(4)\n"
      ],
      "metadata": {
        "colab": {
          "base_uri": "https://localhost:8080/",
          "height": 0
        },
        "id": "EWajiz8D9koc",
        "outputId": "9048dcc5-95e9-4abc-a13e-1e4ba53ac1a2"
      },
      "execution_count": 12,
      "outputs": [
        {
          "output_type": "stream",
          "name": "stdout",
          "text": [
            "Número total de soluciones para N = 4: 2\n"
          ]
        }
      ]
    },
    {
      "cell_type": "markdown",
      "source": [
        "### Conclusión – Algoritmo de vuelta atrás (N Reinas)\n",
        "\n",
        "En esta parte de la actividad he trabajado con la técnica de **vuelta atrás (backtracking)** aplicada al problema de las N reinas.  \n",
        "Este problema consiste en encontrar todas las formas posibles de colocar N reinas en un tablero de NxN sin que se ataquen entre sí.\n",
        "\n",
        "He realizado dos modificaciones para entender mejor el funcionamiento del algoritmo:\n",
        "\n",
        "1. **Visualización del tablero**: me ha permitido representar de forma clara la posición de cada reina en el tablero, usando `Q` para las reinas y `.` para los espacios vacíos. Esto me ha ayudado a ver visualmente cómo se construyen las soluciones válidas paso a paso.\n",
        "\n",
        "2. **Contador total de soluciones**: esta mejora me ha permitido observar cuántas configuraciones válidas existen para distintos tamaños de tablero. Así he comprendido mejor la complejidad combinatoria del problema y el esfuerzo computacional que implica resolverlo para valores altos de N.\n",
        "\n",
        "Estas modificaciones han reforzado mi comprensión de la recursividad, las decisiones condicionales y la eficiencia de los algoritmos de búsqueda.\n"
      ],
      "metadata": {
        "id": "Ej2DUBJR9xF7"
      }
    },
    {
      "cell_type": "markdown",
      "source": [
        "## Viaje por el rio. Programación dinámica"
      ],
      "metadata": {
        "id": "p1VZhNzjUfiy"
      }
    },
    {
      "cell_type": "code",
      "source": [
        "TARIFAS = [\n",
        "[0,5,4,3,999,999,999],\n",
        "[999,0,999,2,3,999,11],\n",
        "[999,999, 0,1,999,4,10],\n",
        "[999,999,999, 0,5,6,9],\n",
        "[999,999, 999,999,0,999,4],\n",
        "[999,999, 999,999,999,0,3],\n",
        "[999,999,999,999,999,999,0]\n",
        "]\n",
        "\n",
        "\n",
        "\n",
        "################################################################\n",
        "def Precios(TARIFAS):\n",
        "################################################################\n",
        "  #Total de Nodos\n",
        "  N = len(TARIFAS[0])\n",
        "\n",
        "  #Inicialización de la tabla de precios\n",
        "  PRECIOS = [ [9999]*N for i in [9999]*N]\n",
        "  RUTA = [ [\"\"]*N for i in [\"\"]*N]\n",
        "\n",
        "  for i in range(0,N-1):\n",
        "    RUTA[i][i] = i             #Para ir de i a i se \"pasa por i\"\n",
        "    PRECIOS[i][i] = 0          #Para ir de i a i se se paga 0\n",
        "    for j in range(i+1, N):\n",
        "      MIN = TARIFAS[i][j]\n",
        "      RUTA[i][j] = i\n",
        "\n",
        "      for k in range(i, j):\n",
        "        if PRECIOS[i][k] + TARIFAS[k][j] < MIN:\n",
        "            MIN = min(MIN, PRECIOS[i][k] + TARIFAS[k][j] )\n",
        "            RUTA[i][j] = k          #Anota que para ir de i a j hay que pasar por k\n",
        "        PRECIOS[i][j] = MIN\n",
        "\n",
        "  return PRECIOS,RUTA\n",
        "################################################################\n",
        "\n",
        "\n",
        "PRECIOS,RUTA = Precios(TARIFAS)\n",
        "#print(PRECIOS[0][6])\n",
        "\n",
        "print(\"PRECIOS\")\n",
        "for i in range(len(TARIFAS)):\n",
        "  print(PRECIOS[i])\n",
        "\n",
        "print(\"\\nRUTA\")\n",
        "for i in range(len(TARIFAS)):\n",
        "  print(RUTA[i])\n",
        "\n",
        "#Determinar la ruta con Recursividad\n",
        "def calcular_ruta(RUTA, desde, hasta):\n",
        "  if desde == hasta:\n",
        "    #print(\"Ir a :\" + str(desde))\n",
        "    return \"\"\n",
        "  else:\n",
        "    return str(calcular_ruta( RUTA, desde, RUTA[desde][hasta])) +  \\\n",
        "                ',' + \\\n",
        "                str(RUTA[desde][hasta] \\\n",
        "              )\n",
        "\n",
        "print(\"\\nLa ruta es:\")\n",
        "calcular_ruta(RUTA, 0,6)"
      ],
      "metadata": {
        "colab": {
          "base_uri": "https://localhost:8080/",
          "height": 351
        },
        "id": "qoqU1XciUdRn",
        "outputId": "541c88e8-e686-4c32-c7e6-812759702496"
      },
      "execution_count": null,
      "outputs": [
        {
          "output_type": "stream",
          "name": "stdout",
          "text": [
            "PRECIOS\n",
            "[0, 5, 4, 3, 8, 8, 11]\n",
            "[9999, 0, 999, 2, 3, 8, 7]\n",
            "[9999, 9999, 0, 1, 6, 4, 7]\n",
            "[9999, 9999, 9999, 0, 5, 6, 9]\n",
            "[9999, 9999, 9999, 9999, 0, 999, 4]\n",
            "[9999, 9999, 9999, 9999, 9999, 0, 3]\n",
            "[9999, 9999, 9999, 9999, 9999, 9999, 9999]\n",
            "\n",
            "RUTA\n",
            "[0, 0, 0, 0, 1, 2, 5]\n",
            "['', 1, 1, 1, 1, 3, 4]\n",
            "['', '', 2, 2, 3, 2, 5]\n",
            "['', '', '', 3, 3, 3, 3]\n",
            "['', '', '', '', 4, 4, 4]\n",
            "['', '', '', '', '', 5, 5]\n",
            "['', '', '', '', '', '', '']\n",
            "\n",
            "La ruta es:\n"
          ]
        },
        {
          "output_type": "execute_result",
          "data": {
            "application/vnd.google.colaboratory.intrinsic+json": {
              "type": "string"
            },
            "text/plain": [
              "',0,2,5'"
            ]
          },
          "metadata": {},
          "execution_count": 9
        }
      ]
    }
  ]
}